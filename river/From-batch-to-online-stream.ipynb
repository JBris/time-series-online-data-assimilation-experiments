{
 "cells": [
  {
   "cell_type": "code",
   "execution_count": 1,
   "id": "4829c9a1",
   "metadata": {},
   "outputs": [
    {
     "name": "stdout",
     "output_type": "stream",
     "text": [
      "ROC AUC: 0.975 (± 0.011)\n"
     ]
    },
    {
     "data": {
      "text/plain": [
       "{'mean radius': 7.76,\n",
       " 'mean texture': 24.54,\n",
       " 'mean perimeter': 47.92,\n",
       " 'mean area': 181.0,\n",
       " 'mean smoothness': 0.05263,\n",
       " 'mean compactness': 0.04362,\n",
       " 'mean concavity': 0.0,\n",
       " 'mean concave points': 0.0,\n",
       " 'mean symmetry': 0.1587,\n",
       " 'mean fractal dimension': 0.05884,\n",
       " 'radius error': 0.3857,\n",
       " 'texture error': 1.428,\n",
       " 'perimeter error': 2.548,\n",
       " 'area error': 19.15,\n",
       " 'smoothness error': 0.007189,\n",
       " 'compactness error': 0.00466,\n",
       " 'concavity error': 0.0,\n",
       " 'concave points error': 0.0,\n",
       " 'symmetry error': 0.02676,\n",
       " 'fractal dimension error': 0.002783,\n",
       " 'worst radius': 9.456,\n",
       " 'worst texture': 30.37,\n",
       " 'worst perimeter': 59.16,\n",
       " 'worst area': 268.6,\n",
       " 'worst smoothness': 0.08996,\n",
       " 'worst compactness': 0.06444,\n",
       " 'worst concavity': 0.0,\n",
       " 'worst concave points': 0.0,\n",
       " 'worst symmetry': 0.2871,\n",
       " 'worst fractal dimension': 0.07039}"
      ]
     },
     "execution_count": 1,
     "metadata": {},
     "output_type": "execute_result"
    }
   ],
   "source": [
    "from sklearn import datasets\n",
    "from sklearn import linear_model\n",
    "from sklearn import metrics\n",
    "from sklearn import model_selection\n",
    "from sklearn import pipeline\n",
    "from sklearn import preprocessing\n",
    "\n",
    "\n",
    "# Load the data\n",
    "dataset = datasets.load_breast_cancer()\n",
    "X, y = dataset.data, dataset.target\n",
    "\n",
    "# Define the steps of the model\n",
    "model = pipeline.Pipeline([\n",
    "    ('scale', preprocessing.StandardScaler()),\n",
    "    ('lin_reg', linear_model.LogisticRegression(solver='lbfgs'))\n",
    "])\n",
    "\n",
    "# Define a determistic cross-validation procedure\n",
    "cv = model_selection.KFold(n_splits=5, shuffle=True, random_state=42)\n",
    "\n",
    "# Compute the MSE values\n",
    "scorer = metrics.make_scorer(metrics.roc_auc_score)\n",
    "scores = model_selection.cross_val_score(model, X, y, scoring=scorer, cv=cv)\n",
    "\n",
    "# Display the average score and it's standard deviation\n",
    "print(f'ROC AUC: {scores.mean():.3f} (± {scores.std():.3f})')\n",
    "\n",
    "for xi, yi in zip(X, y):\n",
    "    xi = dict(zip(dataset.feature_names, xi))\n",
    "    pass\n",
    "\n",
    "xi"
   ]
  },
  {
   "cell_type": "code",
   "execution_count": 3,
   "id": "27b55fa1",
   "metadata": {},
   "outputs": [
    {
     "name": "stdout",
     "output_type": "stream",
     "text": [
      "Running mean: 654.889\n",
      "Running variance: 123625.903\n"
     ]
    }
   ],
   "source": [
    "from river import stream\n",
    "\n",
    "n, mean, sum_of_squares, variance = 0, 0, 0, 0\n",
    "\n",
    "for xi, yi in stream.iter_sklearn_dataset(datasets.load_breast_cancer()):\n",
    "    n += 1\n",
    "    old_mean = mean\n",
    "    mean += (xi['mean area'] - mean) / n\n",
    "    sum_of_squares += (xi['mean area'] - old_mean) * (xi['mean area'] - mean)\n",
    "    variance = sum_of_squares / n\n",
    "\n",
    "print(f'Running mean: {mean:.3f}')\n",
    "print(f'Running variance: {variance:.3f}')"
   ]
  },
  {
   "cell_type": "code",
   "execution_count": 4,
   "id": "7c63de80",
   "metadata": {},
   "outputs": [
    {
     "name": "stdout",
     "output_type": "stream",
     "text": [
      "True mean: 654.889\n",
      "True variance: 123625.903\n"
     ]
    }
   ],
   "source": [
    "import numpy as np\n",
    "\n",
    "i = list(dataset.feature_names).index('mean area')\n",
    "print(f'True mean: {np.mean(X[:, i]):.3f}')\n",
    "print(f'True variance: {np.var(X[:, i]):.3f}')"
   ]
  },
  {
   "cell_type": "code",
   "execution_count": 5,
   "id": "b57c35a6",
   "metadata": {},
   "outputs": [],
   "source": [
    "from river import preprocessing\n",
    "\n",
    "scaler = preprocessing.StandardScaler()\n",
    "\n",
    "for xi, yi in stream.iter_sklearn_dataset(datasets.load_breast_cancer()):\n",
    "    scaler.learn_one(xi)"
   ]
  },
  {
   "cell_type": "code",
   "execution_count": 6,
   "id": "8e065c13",
   "metadata": {},
   "outputs": [
    {
     "name": "stdout",
     "output_type": "stream",
     "text": [
      "ROC AUC: 0.990\n"
     ]
    }
   ],
   "source": [
    "from river import linear_model\n",
    "from river import optim\n",
    "\n",
    "scaler = preprocessing.StandardScaler()\n",
    "optimizer = optim.SGD(lr=0.01)\n",
    "log_reg = linear_model.LogisticRegression(optimizer)\n",
    "\n",
    "y_true = []\n",
    "y_pred = []\n",
    "\n",
    "for xi, yi in stream.iter_sklearn_dataset(datasets.load_breast_cancer(), shuffle=True, seed=42):\n",
    "\n",
    "    # Scale the features\n",
    "    scaler.learn_one(xi)\n",
    "    xi_scaled = scaler.transform_one(xi)\n",
    "\n",
    "    # Test the current model on the new \"unobserved\" sample\n",
    "    yi_pred = log_reg.predict_proba_one(xi_scaled)\n",
    "    # Train the model with the new sample\n",
    "    log_reg.learn_one(xi_scaled, yi)\n",
    "\n",
    "    # Store the truth and the prediction\n",
    "    y_true.append(yi)\n",
    "    y_pred.append(yi_pred[True])\n",
    "\n",
    "print(f'ROC AUC: {metrics.roc_auc_score(y_true, y_pred):.3f}')"
   ]
  },
  {
   "cell_type": "code",
   "execution_count": 7,
   "id": "121c1019",
   "metadata": {},
   "outputs": [
    {
     "name": "stdout",
     "output_type": "stream",
     "text": [
      "ROC AUC: 0.964 (± 0.016)\n"
     ]
    }
   ],
   "source": [
    "from river import compat\n",
    "from river import compose\n",
    "\n",
    "# We define a Pipeline, exactly like we did earlier for sklearn \n",
    "model = compose.Pipeline(\n",
    "    ('scale', preprocessing.StandardScaler()),\n",
    "    ('log_reg', linear_model.LogisticRegression())\n",
    ")\n",
    "\n",
    "# We make the Pipeline compatible with sklearn\n",
    "model = compat.convert_river_to_sklearn(model)\n",
    "\n",
    "# We compute the CV scores using the same CV scheme and the same scoring\n",
    "scores = model_selection.cross_val_score(model, X, y, scoring=scorer, cv=cv)\n",
    "\n",
    "# Display the average score and it's standard deviation\n",
    "print(f'ROC AUC: {scores.mean():.3f} (± {scores.std():.3f})')"
   ]
  },
  {
   "cell_type": "code",
   "execution_count": null,
   "id": "000a8627",
   "metadata": {},
   "outputs": [],
   "source": []
  }
 ],
 "metadata": {
  "kernelspec": {
   "display_name": "Python 3 (ipykernel)",
   "language": "python",
   "name": "python3"
  },
  "language_info": {
   "codemirror_mode": {
    "name": "ipython",
    "version": 3
   },
   "file_extension": ".py",
   "mimetype": "text/x-python",
   "name": "python",
   "nbconvert_exporter": "python",
   "pygments_lexer": "ipython3",
   "version": "3.10.13"
  }
 },
 "nbformat": 4,
 "nbformat_minor": 5
}
