{
 "cells": [
  {
   "cell_type": "code",
   "execution_count": 1,
   "id": "e3388844",
   "metadata": {},
   "outputs": [
    {
     "name": "stdout",
     "output_type": "stream",
     "text": [
      "Downloading https://maxhalford.github.io/files/datasets/ml_100k.zip (1.83 MB)\n",
      "Uncompressing into /home/jbris/river_data/MovieLens100K\n",
      "x = {\n",
      "    \"user\": \"259\",\n",
      "    \"item\": \"255\",\n",
      "    \"timestamp\": 874731910000000000,\n",
      "    \"title\": \"My Best Friend's Wedding (1997)\",\n",
      "    \"release_date\": 866764800000000000,\n",
      "    \"genres\": \"comedy, romance\",\n",
      "    \"age\": 21.0,\n",
      "    \"gender\": \"M\",\n",
      "    \"occupation\": \"student\",\n",
      "    \"zip_code\": \"48823\"\n",
      "}\n",
      "y = 4.0\n"
     ]
    }
   ],
   "source": [
    "import json\n",
    "\n",
    "from river import datasets\n",
    "\n",
    "for x, y in datasets.MovieLens100K():\n",
    "    print(f'x = {json.dumps(x, indent=4)}')\n",
    "    print(f'y = {y}')\n",
    "    break\n",
    "    \n",
    "from river import metrics\n",
    "from river.evaluate import progressive_val_score\n",
    "\n",
    "def evaluate(model, unpack_user_and_item=True):\n",
    "    X_y = datasets.MovieLens100K(unpack_user_and_item)\n",
    "    metric = metrics.MAE() + metrics.RMSE()\n",
    "    _ = progressive_val_score(X_y, model, metric, print_every=25_000, show_time=True, show_memory=True)\n"
   ]
  },
  {
   "cell_type": "code",
   "execution_count": 2,
   "id": "08b5d925",
   "metadata": {},
   "outputs": [
    {
     "name": "stdout",
     "output_type": "stream",
     "text": [
      "[25,000] MAE: 0.934259\n",
      "RMSE: 1.124469 – 00:00:00 – 514 B\n",
      "[50,000] MAE: 0.923893\n",
      "RMSE: 1.105 – 00:00:00 – 514 B\n",
      "[75,000] MAE: 0.937359\n",
      "RMSE: 1.123696 – 00:00:01 – 514 B\n",
      "[100,000] MAE: 0.942162\n",
      "RMSE: 1.125783 – 00:00:01 – 514 B\n"
     ]
    }
   ],
   "source": [
    "from river import dummy\n",
    "from river import stats\n",
    "\n",
    "model = dummy.StatisticRegressor(stats.Mean())\n",
    "evaluate(model, unpack_user_and_item=False)\n",
    "\n",
    "x = {\n",
    "    'user': 'Guido',\n",
    "    'item': \"Monty Python's Flying Circus\"\n",
    "}"
   ]
  },
  {
   "cell_type": "code",
   "execution_count": 3,
   "id": "58c19395",
   "metadata": {},
   "outputs": [
    {
     "name": "stdout",
     "output_type": "stream",
     "text": [
      "[25,000] MAE: 0.761844\n",
      "RMSE: 0.960972 – 00:00:00 – 173.6 KB\n",
      "[50,000] MAE: 0.753292\n",
      "RMSE: 0.951223 – 00:00:01 – 242.23 KB\n",
      "[75,000] MAE: 0.754177\n",
      "RMSE: 0.953376 – 00:00:01 – 286.04 KB\n",
      "[100,000] MAE: 0.754651\n",
      "RMSE: 0.954148 – 00:00:02 – 309.64 KB\n"
     ]
    }
   ],
   "source": [
    "from river import preprocessing\n",
    "from river import optim\n",
    "from river import reco\n",
    "\n",
    "baseline_params = {\n",
    "    'optimizer': optim.SGD(0.025),\n",
    "    'l2': 0.,\n",
    "    'initializer': optim.initializers.Zeros()\n",
    "}\n",
    "\n",
    "model = preprocessing.PredClipper(\n",
    "    regressor=reco.Baseline(**baseline_params),\n",
    "    y_min=1,\n",
    "    y_max=5\n",
    ")\n",
    "\n",
    "evaluate(model)"
   ]
  },
  {
   "cell_type": "code",
   "execution_count": 4,
   "id": "3dec41c7",
   "metadata": {},
   "outputs": [
    {
     "name": "stdout",
     "output_type": "stream",
     "text": [
      "[25,000] MAE: 1.070136\n",
      "RMSE: 1.397014 – 00:00:00 – 570.35 KB\n",
      "[50,000] MAE: 0.99174\n",
      "RMSE: 1.290666 – 00:00:01 – 716 KB\n",
      "[75,000] MAE: 0.961072\n",
      "RMSE: 1.250842 – 00:00:02 – 844.09 KB\n",
      "[100,000] MAE: 0.944883\n",
      "RMSE: 1.227688 – 00:00:03 – 945.19 KB\n"
     ]
    }
   ],
   "source": [
    "funk_mf_params = {\n",
    "    'n_factors': 10,\n",
    "    'optimizer': optim.SGD(0.05),\n",
    "    'l2': 0.1,\n",
    "    'initializer': optim.initializers.Normal(mu=0., sigma=0.1, seed=73)\n",
    "}\n",
    "\n",
    "model = preprocessing.PredClipper(\n",
    "    regressor=reco.FunkMF(**funk_mf_params),\n",
    "    y_min=1,\n",
    "    y_max=5\n",
    ")\n",
    "\n",
    "evaluate(model)"
   ]
  },
  {
   "cell_type": "code",
   "execution_count": 5,
   "id": "730b7edb",
   "metadata": {},
   "outputs": [
    {
     "name": "stdout",
     "output_type": "stream",
     "text": [
      "[25,000] MAE: 0.761818\n",
      "RMSE: 0.961057 – 00:00:01 – 669.27 KB\n",
      "[50,000] MAE: 0.751667\n",
      "RMSE: 0.949443 – 00:00:02 – 869.85 KB\n",
      "[75,000] MAE: 0.749653\n",
      "RMSE: 0.948723 – 00:00:03 – 1 MB\n",
      "[100,000] MAE: 0.748559\n",
      "RMSE: 0.947854 – 00:00:04 – 1.11 MB\n"
     ]
    }
   ],
   "source": [
    "biased_mf_params = {\n",
    "    'n_factors': 10,\n",
    "    'bias_optimizer': optim.SGD(0.025),\n",
    "    'latent_optimizer': optim.SGD(0.05),\n",
    "    'weight_initializer': optim.initializers.Zeros(),\n",
    "    'latent_initializer': optim.initializers.Normal(mu=0., sigma=0.1, seed=73),\n",
    "    'l2_bias': 0.,\n",
    "    'l2_latent': 0.\n",
    "}\n",
    "\n",
    "model = preprocessing.PredClipper(\n",
    "    regressor=reco.BiasedMF(**biased_mf_params),\n",
    "    y_min=1,\n",
    "    y_max=5\n",
    ")\n",
    "\n",
    "evaluate(model)"
   ]
  },
  {
   "cell_type": "code",
   "execution_count": null,
   "id": "0855d7a8",
   "metadata": {},
   "outputs": [],
   "source": []
  }
 ],
 "metadata": {
  "kernelspec": {
   "display_name": "Python 3 (ipykernel)",
   "language": "python",
   "name": "python3"
  },
  "language_info": {
   "codemirror_mode": {
    "name": "ipython",
    "version": 3
   },
   "file_extension": ".py",
   "mimetype": "text/x-python",
   "name": "python",
   "nbconvert_exporter": "python",
   "pygments_lexer": "ipython3",
   "version": "3.10.13"
  }
 },
 "nbformat": 4,
 "nbformat_minor": 5
}
