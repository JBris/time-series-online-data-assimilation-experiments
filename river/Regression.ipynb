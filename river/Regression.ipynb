{
 "cells": [
  {
   "cell_type": "code",
   "execution_count": 1,
   "id": "05ee95e0",
   "metadata": {},
   "outputs": [
    {
     "data": {
      "text/plain": [
       "0.0"
      ]
     },
     "execution_count": 1,
     "metadata": {},
     "output_type": "execute_result"
    }
   ],
   "source": [
    "from river import datasets\n",
    "\n",
    "dataset = datasets.TrumpApproval()\n",
    "dataset\n",
    "\n",
    "x, y = next(iter(dataset))\n",
    "\n",
    "from river import neighbors\n",
    "\n",
    "model = neighbors.KNNRegressor()\n",
    "model.predict_one(x)"
   ]
  },
  {
   "cell_type": "code",
   "execution_count": 2,
   "id": "ad0c9e6e",
   "metadata": {},
   "outputs": [
    {
     "data": {
      "text/plain": [
       "MAE: 0.310353"
      ]
     },
     "execution_count": 2,
     "metadata": {},
     "output_type": "execute_result"
    }
   ],
   "source": [
    "model.learn_one(x, y)\n",
    "\n",
    "model.predict_one(x)\n",
    "\n",
    "from river import metrics\n",
    "\n",
    "model = neighbors.KNNRegressor()\n",
    "\n",
    "metric = metrics.MAE()\n",
    "\n",
    "for x, y in dataset:\n",
    "    y_pred = model.predict_one(x)\n",
    "    model.learn_one(x, y)\n",
    "    metric.update(y, y_pred)\n",
    "\n",
    "metric"
   ]
  },
  {
   "cell_type": "code",
   "execution_count": 3,
   "id": "20f4fe61",
   "metadata": {},
   "outputs": [
    {
     "data": {
      "text/plain": [
       "MAE: 0.310353"
      ]
     },
     "execution_count": 3,
     "metadata": {},
     "output_type": "execute_result"
    }
   ],
   "source": [
    "from river import evaluate\n",
    "\n",
    "model = neighbors.KNNRegressor()\n",
    "metric = metrics.MAE()\n",
    "\n",
    "evaluate.progressive_val_score(dataset, model, metric)"
   ]
  },
  {
   "cell_type": "code",
   "execution_count": null,
   "id": "9da80fb8",
   "metadata": {},
   "outputs": [],
   "source": []
  }
 ],
 "metadata": {
  "kernelspec": {
   "display_name": "Python 3 (ipykernel)",
   "language": "python",
   "name": "python3"
  },
  "language_info": {
   "codemirror_mode": {
    "name": "ipython",
    "version": 3
   },
   "file_extension": ".py",
   "mimetype": "text/x-python",
   "name": "python",
   "nbconvert_exporter": "python",
   "pygments_lexer": "ipython3",
   "version": "3.10.13"
  }
 },
 "nbformat": 4,
 "nbformat_minor": 5
}
