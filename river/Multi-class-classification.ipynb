{
 "cells": [
  {
   "cell_type": "code",
   "execution_count": 1,
   "id": "215b3d02",
   "metadata": {},
   "outputs": [
    {
     "data": {
      "text/plain": [
       "            Precision   Recall   F1       Support  \n",
       "                                                   \n",
       "brickface      77.13%   84.85%   80.81%       330  \n",
       "   cement      78.92%   83.94%   81.35%       330  \n",
       "  foliage      65.69%   20.30%   31.02%       330  \n",
       "    grass     100.00%   96.97%   98.46%       330  \n",
       "     path      90.63%   91.19%   90.91%       329  \n",
       "      sky      99.08%   98.18%   98.63%       330  \n",
       "   window      43.50%   67.88%   53.02%       330  \n",
       "                                                   \n",
       "    Macro      79.28%   77.62%   76.31%            \n",
       "    Micro      77.61%   77.61%   77.61%            \n",
       " Weighted      79.27%   77.61%   76.31%            \n",
       "\n",
       "                  77.61% accuracy                  "
      ]
     },
     "execution_count": 1,
     "metadata": {},
     "output_type": "execute_result"
    }
   ],
   "source": [
    "from river import datasets\n",
    "\n",
    "dataset = datasets.ImageSegments()\n",
    "dataset\n",
    "\n",
    "x, y = next(iter(dataset))\n",
    "\n",
    "from river import tree\n",
    "\n",
    "model = tree.HoeffdingTreeClassifier()\n",
    "model.predict_proba_one(x)\n",
    "\n",
    "model.learn_one(x, y)\n",
    "model.predict_proba_one(x)\n",
    "\n",
    "from river import metrics\n",
    "\n",
    "model = tree.HoeffdingTreeClassifier()\n",
    "\n",
    "metric = metrics.ClassificationReport()\n",
    "\n",
    "for x, y in dataset:\n",
    "    y_pred = model.predict_one(x)\n",
    "    model.learn_one(x, y)\n",
    "    if y_pred is not None:\n",
    "        metric.update(y, y_pred)\n",
    "\n",
    "metric"
   ]
  },
  {
   "cell_type": "code",
   "execution_count": 2,
   "id": "9467aea9",
   "metadata": {},
   "outputs": [
    {
     "data": {
      "text/plain": [
       "            Precision   Recall   F1       Support  \n",
       "                                                   \n",
       "brickface      77.13%   84.85%   80.81%       330  \n",
       "   cement      78.92%   83.94%   81.35%       330  \n",
       "  foliage      65.69%   20.30%   31.02%       330  \n",
       "    grass     100.00%   96.97%   98.46%       330  \n",
       "     path      90.63%   91.19%   90.91%       329  \n",
       "      sky      99.08%   98.18%   98.63%       330  \n",
       "   window      43.50%   67.88%   53.02%       330  \n",
       "                                                   \n",
       "    Macro      79.28%   77.62%   76.31%            \n",
       "    Micro      77.61%   77.61%   77.61%            \n",
       " Weighted      79.27%   77.61%   76.31%            \n",
       "\n",
       "                  77.61% accuracy                  "
      ]
     },
     "execution_count": 2,
     "metadata": {},
     "output_type": "execute_result"
    }
   ],
   "source": [
    "from river import evaluate\n",
    "\n",
    "model = tree.HoeffdingTreeClassifier()\n",
    "metric = metrics.ClassificationReport()\n",
    "\n",
    "evaluate.progressive_val_score(dataset, model, metric)"
   ]
  },
  {
   "cell_type": "code",
   "execution_count": null,
   "id": "c7fcd6c4",
   "metadata": {},
   "outputs": [],
   "source": []
  }
 ],
 "metadata": {
  "kernelspec": {
   "display_name": "Python 3 (ipykernel)",
   "language": "python",
   "name": "python3"
  },
  "language_info": {
   "codemirror_mode": {
    "name": "ipython",
    "version": 3
   },
   "file_extension": ".py",
   "mimetype": "text/x-python",
   "name": "python",
   "nbconvert_exporter": "python",
   "pygments_lexer": "ipython3",
   "version": "3.10.13"
  }
 },
 "nbformat": 4,
 "nbformat_minor": 5
}
