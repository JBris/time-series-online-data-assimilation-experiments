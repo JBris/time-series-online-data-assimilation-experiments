{
 "cells": [
  {
   "cell_type": "markdown",
   "id": "cf1f0bba",
   "metadata": {},
   "source": [
    "## Illustrate usage of DAPPER to benchmark multiple DA methods."
   ]
  },
  {
   "cell_type": "markdown",
   "id": "e60a67d5",
   "metadata": {},
   "source": [
    "#### Imports\n",
    "<b>NB:</b> If you're on <mark><b>Gooble Colab</b></mark>,\n",
    "then replace `%matplotlib notebook` below by\\\n",
    "`!python -m pip install git+https://github.com/nansencenter/DAPPER.git`\\\n",
    "Also note that liveplotting does not work on Colab."
   ]
  },
  {
   "cell_type": "code",
   "execution_count": 1,
   "id": "b1c0d97d",
   "metadata": {},
   "outputs": [
    {
     "name": "stderr",
     "output_type": "stream",
     "text": [
      "/home/jbris/miniconda3/envs/data_assim/lib/python3.10/site-packages/dapper/tools/progressbar.py:140: UserWarning: Keyboard interaction (to skip/stop/pause the liveplotting) does not work in the current python frontend. If you wish, you can use dpr_config.yaml to disable the liveplotting altogether, which will silence this message.\n",
      "  _interaction_impossible()\n"
     ]
    }
   ],
   "source": [
    "%matplotlib notebook\n",
    "import dapper as dpr\n",
    "import dapper.da_methods as da"
   ]
  },
  {
   "cell_type": "markdown",
   "id": "eb670f13",
   "metadata": {},
   "source": [
    "#### DA method configurations"
   ]
  },
  {
   "cell_type": "code",
   "execution_count": 2,
   "id": "15a0f770",
   "metadata": {},
   "outputs": [],
   "source": [
    "from dapper.mods.Lorenz63.sakov2012 import HMM  # Expected rmse.a:\n",
    "xps = dpr.xpList()\n",
    "xps += da.Climatology()                                      # 7.6\n",
    "xps += da.OptInterp()                                        # 1.25\n",
    "xps += da.Persistence()                                      # 10.7\n",
    "xps += da.PreProg(lambda k, xx, yy: xx[k])                   # 0\n",
    "xps += da.Var3D(xB=0.1)                                      # 1.03\n",
    "xps += da.ExtKF(infl=90)                                     # 0.87\n",
    "xps += da.EnKF('Sqrt'   , N=3   , infl=1.30)                 # 0.82\n",
    "xps += da.EnKF('Sqrt'   , N=10  , infl=1.02, rot=True)       # 0.63\n",
    "xps += da.EnKF('PertObs', N=500 , infl=0.95, rot=False)      # 0.56\n",
    "xps += da.EnKF_N(         N=10             , rot=True)       # 0.54\n",
    "xps += da.iEnKS('Sqrt'  , N=10  , infl=1.02, rot=True)       # 0.31\n",
    "xps += da.PartFilt(       N=100 , reg=2.4  , NER=0.3)        # 0.38\n",
    "xps += da.PartFilt(       N=800 , reg=0.9  , NER=0.2)        # 0.28\n",
    "# xps += da.PartFilt(       N=4000, reg=0.7  , NER=0.05)       # 0.27\n",
    "# xps += da.PFxN(xN=1000,   N=30  , Qs=2     , NER=0.2)        # 0.56"
   ]
  },
  {
   "cell_type": "markdown",
   "id": "f127ebc2",
   "metadata": {},
   "source": [
    "#### With Lorenz-96 instead"
   ]
  },
  {
   "cell_type": "code",
   "execution_count": 3,
   "id": "e665575f",
   "metadata": {},
   "outputs": [],
   "source": [
    "# from dapper.mods.Lorenz96.sakov2008 import HMM   # Expected rmse.a:\n",
    "# xps = dpr.xpList()\n",
    "# xps += da.Climatology()                                     # 3.6\n",
    "# xps += da.OptInterp()                                       # 0.95\n",
    "# xps += da.Var3D(xB=0.02)                                    # 0.41\n",
    "# xps += da.ExtKF(infl=6)                                     # 0.24\n",
    "# xps += da.EnKF('PertObs', N=40, infl=1.06)                  # 0.22\n",
    "# xps += da.EnKF('Sqrt'   , N=28, infl=1.02, rot=True)        # 0.18\n",
    "# # More sophisticated:\n",
    "# xps += da.EnKF_N(         N=24, rot=True)                   # 0.21\n",
    "# xps += da.EnKF_N(         N=24, rot=True, xN=2)             # 0.18\n",
    "# xps += da.iEnKS('Sqrt'  , N=40, infl=1.01, rot=True)        # 0.17\n",
    "# # With localisation:\n",
    "# xps += da.LETKF(          N=7 , infl=1.04, rot=True, loc_rad=4)  # 0.22\n",
    "# xps += da.SL_EAKF(        N=7 , infl=1.07, rot=True, loc_rad=6)  # 0.23"
   ]
  },
  {
   "cell_type": "markdown",
   "id": "44557676",
   "metadata": {},
   "source": [
    "#### Other models (suitable xp's listed in HMM files):"
   ]
  },
  {
   "cell_type": "code",
   "execution_count": 4,
   "id": "7929298c",
   "metadata": {},
   "outputs": [],
   "source": [
    "# from dapper.mods.LA           .evensen2009 import HMM\n",
    "# from dapper.mods.KS           .bocquet2019 import HMM\n",
    "# from dapper.mods.LotkaVolterra.settings101 import HMM"
   ]
  },
  {
   "cell_type": "markdown",
   "id": "d8deb761",
   "metadata": {},
   "source": [
    "#### Launch"
   ]
  },
  {
   "cell_type": "markdown",
   "id": "5cc4d721",
   "metadata": {},
   "source": [
    "Write some more non-arg parameters to the `xps`. In this case we set the seed,\n",
    "so that repeat experiments produce exactly the same result."
   ]
  },
  {
   "cell_type": "code",
   "execution_count": 5,
   "id": "8b903ed3",
   "metadata": {},
   "outputs": [],
   "source": [
    "for xp in xps:\n",
    "    xp.seed = 3000"
   ]
  },
  {
   "cell_type": "markdown",
   "id": "3237c124",
   "metadata": {},
   "source": [
    "Adjust experiment duration"
   ]
  },
  {
   "cell_type": "code",
   "execution_count": 6,
   "id": "07722c35",
   "metadata": {},
   "outputs": [],
   "source": [
    "HMM.tseq.T = 50"
   ]
  },
  {
   "cell_type": "markdown",
   "id": "cc49da09",
   "metadata": {},
   "source": [
    "Run/assimilate (for each `xp` in `xps`)"
   ]
  },
  {
   "cell_type": "code",
   "execution_count": 7,
   "id": "b24e7557",
   "metadata": {},
   "outputs": [
    {
     "name": "stdout",
     "output_type": "stream",
     "text": [
      "Experiment stored at /home/jbris/dpr_data/noname/run_2024-02-07__13-31-41\n"
     ]
    },
    {
     "data": {
      "application/vnd.jupyter.widget-view+json": {
       "model_id": "ccc48616660144ec8789bf8d4abefb7a",
       "version_major": 2,
       "version_minor": 0
      },
      "text/plain": [
       "Truth & Obs:   0%|                                                      | 0/5000 [00:00<?, ?it/s]"
      ]
     },
     "metadata": {},
     "output_type": "display_data"
    },
    {
     "data": {
      "application/vnd.jupyter.widget-view+json": {
       "model_id": "6aa0743f764146c18e9c726f9031ff6b",
       "version_major": 2,
       "version_minor": 0
      },
      "text/plain": [
       "Climatology:   0%|                                                      | 0/5000 [00:00<?, ?it/s]"
      ]
     },
     "metadata": {},
     "output_type": "display_data"
    },
    {
     "data": {
      "application/vnd.jupyter.widget-view+json": {
       "model_id": "1e4a75ddafcc4ccaad5193a87199247f",
       "version_major": 2,
       "version_minor": 0
      },
      "text/plain": [
       "Truth & Obs:   0%|                                                      | 0/5000 [00:00<?, ?it/s]"
      ]
     },
     "metadata": {},
     "output_type": "display_data"
    },
    {
     "data": {
      "application/vnd.jupyter.widget-view+json": {
       "model_id": "cde2d58bb9394c0a825c7e7cca6cd5b1",
       "version_major": 2,
       "version_minor": 0
      },
      "text/plain": [
       "OptInterp:   0%|                                                        | 0/5000 [00:00<?, ?it/s]"
      ]
     },
     "metadata": {},
     "output_type": "display_data"
    },
    {
     "data": {
      "application/vnd.jupyter.widget-view+json": {
       "model_id": "e34a4b9612d64b5886927c6defc26505",
       "version_major": 2,
       "version_minor": 0
      },
      "text/plain": [
       "Truth & Obs:   0%|                                                      | 0/5000 [00:00<?, ?it/s]"
      ]
     },
     "metadata": {},
     "output_type": "display_data"
    },
    {
     "name": "stderr",
     "output_type": "stream",
     "text": [
      "/home/jbris/miniconda3/envs/data_assim/lib/python3.10/site-packages/patlib/std.py:52: UserWarning: Numerical error in stat comps.\n",
      "Probably caused by a sample variance of 0.\n",
      "  return fun(*args, **kwargs)\n"
     ]
    },
    {
     "data": {
      "application/vnd.jupyter.widget-view+json": {
       "model_id": "7d79f7b7bce4433d99b3562922614c62",
       "version_major": 2,
       "version_minor": 0
      },
      "text/plain": [
       "Persistence:   0%|                                                      | 0/5000 [00:00<?, ?it/s]"
      ]
     },
     "metadata": {},
     "output_type": "display_data"
    },
    {
     "data": {
      "application/vnd.jupyter.widget-view+json": {
       "model_id": "8415d5a47b4c4b0d912b84fe2d5d9cac",
       "version_major": 2,
       "version_minor": 0
      },
      "text/plain": [
       "Truth & Obs:   0%|                                                      | 0/5000 [00:00<?, ?it/s]"
      ]
     },
     "metadata": {},
     "output_type": "display_data"
    },
    {
     "data": {
      "application/vnd.jupyter.widget-view+json": {
       "model_id": "e537abc8f2014d3084d167630f4b4fa2",
       "version_major": 2,
       "version_minor": 0
      },
      "text/plain": [
       "PreProg:   0%|                                                          | 0/5000 [00:00<?, ?it/s]"
      ]
     },
     "metadata": {},
     "output_type": "display_data"
    },
    {
     "data": {
      "application/vnd.jupyter.widget-view+json": {
       "model_id": "e58191d76ad44cd78685911c343903cf",
       "version_major": 2,
       "version_minor": 0
      },
      "text/plain": [
       "Truth & Obs:   0%|                                                      | 0/5000 [00:00<?, ?it/s]"
      ]
     },
     "metadata": {},
     "output_type": "display_data"
    },
    {
     "data": {
      "application/vnd.jupyter.widget-view+json": {
       "model_id": "ebffdcb283f947ae8cde34ecb53bcfa1",
       "version_major": 2,
       "version_minor": 0
      },
      "text/plain": [
       "Var3D:   0%|                                                            | 0/5000 [00:00<?, ?it/s]"
      ]
     },
     "metadata": {},
     "output_type": "display_data"
    },
    {
     "data": {
      "application/vnd.jupyter.widget-view+json": {
       "model_id": "7c0e0409c62a4a5ba2fdefb163cdd762",
       "version_major": 2,
       "version_minor": 0
      },
      "text/plain": [
       "Truth & Obs:   0%|                                                      | 0/5000 [00:00<?, ?it/s]"
      ]
     },
     "metadata": {},
     "output_type": "display_data"
    },
    {
     "data": {
      "application/vnd.jupyter.widget-view+json": {
       "model_id": "1e54c697da504da295f6fcc262c8eb71",
       "version_major": 2,
       "version_minor": 0
      },
      "text/plain": [
       "ExtKF infl:90:   0%|                                                    | 0/5000 [00:00<?, ?it/s]"
      ]
     },
     "metadata": {},
     "output_type": "display_data"
    },
    {
     "data": {
      "application/vnd.jupyter.widget-view+json": {
       "model_id": "34624971212e483ca6426375b55e08d2",
       "version_major": 2,
       "version_minor": 0
      },
      "text/plain": [
       "Truth & Obs:   0%|                                                      | 0/5000 [00:00<?, ?it/s]"
      ]
     },
     "metadata": {},
     "output_type": "display_data"
    },
    {
     "data": {
      "application/vnd.jupyter.widget-view+json": {
       "model_id": "0a407c22f91f4b1bb8e68184fb71e5b3",
       "version_major": 2,
       "version_minor": 0
      },
      "text/plain": [
       "EnKF infl:1.3 upd_a:Sqrt N:3 rot:False:   0%|                           | 0/5000 [00:00<?, ?it/s]"
      ]
     },
     "metadata": {},
     "output_type": "display_data"
    },
    {
     "data": {
      "application/vnd.jupyter.widget-view+json": {
       "model_id": "ee717c1339f34e9689cd4a2aa87dc8a3",
       "version_major": 2,
       "version_minor": 0
      },
      "text/plain": [
       "Truth & Obs:   0%|                                                      | 0/5000 [00:00<?, ?it/s]"
      ]
     },
     "metadata": {},
     "output_type": "display_data"
    },
    {
     "data": {
      "application/vnd.jupyter.widget-view+json": {
       "model_id": "9d25887e080c4d3dabeb9bede690d9fa",
       "version_major": 2,
       "version_minor": 0
      },
      "text/plain": [
       "EnKF infl:1.02 upd_a:Sqrt N:10 rot:True:   0%|                          | 0/5000 [00:00<?, ?it/s]"
      ]
     },
     "metadata": {},
     "output_type": "display_data"
    },
    {
     "data": {
      "application/vnd.jupyter.widget-view+json": {
       "model_id": "18b7393e65c34a28bee3d2262ef4f7b9",
       "version_major": 2,
       "version_minor": 0
      },
      "text/plain": [
       "Truth & Obs:   0%|                                                      | 0/5000 [00:00<?, ?it/s]"
      ]
     },
     "metadata": {},
     "output_type": "display_data"
    },
    {
     "data": {
      "application/vnd.jupyter.widget-view+json": {
       "model_id": "f3a93865f42f4ff2a3fcb416011e21bb",
       "version_major": 2,
       "version_minor": 0
      },
      "text/plain": [
       "EnKF infl:0.95 upd_a:PertObs N:500 rot:False:   0%|                     | 0/5000 [00:00<?, ?it/s]"
      ]
     },
     "metadata": {},
     "output_type": "display_data"
    },
    {
     "data": {
      "application/vnd.jupyter.widget-view+json": {
       "model_id": "0d0b4174280a4b99815c0e2ee98d8daf",
       "version_major": 2,
       "version_minor": 0
      },
      "text/plain": [
       "Truth & Obs:   0%|                                                      | 0/5000 [00:00<?, ?it/s]"
      ]
     },
     "metadata": {},
     "output_type": "display_data"
    },
    {
     "data": {
      "application/vnd.jupyter.widget-view+json": {
       "model_id": "cac0a7d5e46b4e1eb70e90a4c60ca5b1",
       "version_major": 2,
       "version_minor": 0
      },
      "text/plain": [
       "EnKF_N infl:1 N:10 rot:True xN:1:   0%|                                 | 0/5000 [00:00<?, ?it/s]"
      ]
     },
     "metadata": {},
     "output_type": "display_data"
    },
    {
     "data": {
      "application/vnd.jupyter.widget-view+json": {
       "model_id": "eab4605b3732446c9396bafbd42fe19b",
       "version_major": 2,
       "version_minor": 0
      },
      "text/plain": [
       "Truth & Obs:   0%|                                                      | 0/5000 [00:00<?, ?it/s]"
      ]
     },
     "metadata": {},
     "output_type": "display_data"
    },
    {
     "data": {
      "application/vnd.jupyter.widget-view+json": {
       "model_id": "5813112bf8844db5bb9dc372214a5c7f",
       "version_major": 2,
       "version_minor": 0
      },
      "text/plain": [
       "iEnKS infl:1.02 upd_a:Sqrt N:10 rot:True:   0%|                          | 0/201 [00:00<?, ?it/s]"
      ]
     },
     "metadata": {},
     "output_type": "display_data"
    },
    {
     "data": {
      "application/vnd.jupyter.widget-view+json": {
       "model_id": "ff43189cd51e4ca5954137ac5955152e",
       "version_major": 2,
       "version_minor": 0
      },
      "text/plain": [
       "Truth & Obs:   0%|                                                      | 0/5000 [00:00<?, ?it/s]"
      ]
     },
     "metadata": {},
     "output_type": "display_data"
    },
    {
     "data": {
      "application/vnd.jupyter.widget-view+json": {
       "model_id": "e484311e4ea742c0a8c7e56b92f2bcdf",
       "version_major": 2,
       "version_minor": 0
      },
      "text/plain": [
       "PartFilt N:100 reg:2.4 NER:0.3:   0%|                                   | 0/5000 [00:00<?, ?it/s]"
      ]
     },
     "metadata": {},
     "output_type": "display_data"
    },
    {
     "data": {
      "application/vnd.jupyter.widget-view+json": {
       "model_id": "1bd9f71d373b4a1896e619a0d7285a93",
       "version_major": 2,
       "version_minor": 0
      },
      "text/plain": [
       "Truth & Obs:   0%|                                                      | 0/5000 [00:00<?, ?it/s]"
      ]
     },
     "metadata": {},
     "output_type": "display_data"
    },
    {
     "data": {
      "application/vnd.jupyter.widget-view+json": {
       "model_id": "c6d0356aa04b412189d6455f7a86183a",
       "version_major": 2,
       "version_minor": 0
      },
      "text/plain": [
       "PartFilt N:800 reg:0.9 NER:0.2:   0%|                                   | 0/5000 [00:00<?, ?it/s]"
      ]
     },
     "metadata": {},
     "output_type": "display_data"
    }
   ],
   "source": [
    "save_as = xps.launch(HMM, liveplots=False)"
   ]
  },
  {
   "cell_type": "markdown",
   "id": "7e44ffe8",
   "metadata": {},
   "source": [
    "#### Print results"
   ]
  },
  {
   "cell_type": "code",
   "execution_count": 8,
   "id": "8bd94fa0",
   "metadata": {},
   "outputs": [
    {
     "name": "stdout",
     "output_type": "stream",
     "text": [
      "    da_method     infl  upd_a      N  rot    xN  reg  NER  |         rmse.a  1σ           rmv.a  1σ          rmse.f  1σ  \n",
      "--  -----------  -----  -------  ---  -----  --  ---  ---  -  -------------------  ------------------  ------------------\n",
      " 0  Climatology                                            |   7.5          ±0.4   8.4541939186 ±0     7.5          ±0.4 \n",
      " 1  OptInterp                                              |   1.17         ±0.05  1.9211136048 ±0     7.5          ±0.4 \n",
      " 2  Persistence                                            |  10.7          ±0.3   0.0000000000 ±0     0.56         ±0.03\n",
      " 3  PreProg                                                |   0.0000000000 ±0     0.0000000000 ±0     0.0000000000 ±0   \n",
      " 4  Var3D                                                  |   1.02         ±0.06  1.1412178562 ±0     1.9          ±0.2 \n",
      " 5  ExtKF        90                                        |   1.0          ±0.2   0.89         ±0.01  1.9          ±0.4 \n",
      " 6  EnKF          1.3   Sqrt       3  False                |   0.82         ±0.09  0.92         ±0.02  1.8          ±0.2 \n",
      " 7  EnKF          1.02  Sqrt      10  True                 |   0.6          ±0.1   0.66         ±0.02  1.4          ±0.2 \n",
      " 8  EnKF          0.95  PertObs  500  False                |   0.59         ±0.09  0.60         ±0.02  1.4          ±0.2 \n",
      " 9  EnKF_N        1               10  True    1            |   0.57         ±0.07  0.65         ±0.02  1.3          ±0.2 \n",
      "10  iEnKS         1.02  Sqrt      10  True                 |   0.25         ±0.03  0.41         ±0.02  0.6          ±0.1 \n",
      "11  PartFilt                     100             2.4  0.3  |   0.30         ±0.02  0.53         ±0.02  0.8          ±0.2 \n",
      "12  PartFilt                     800             0.9  0.2  |   0.21         ±0.02  0.35         ±0.02  0.5          ±0.1 \n"
     ]
    }
   ],
   "source": [
    "print(xps.tabulate_avrgs())"
   ]
  },
  {
   "cell_type": "code",
   "execution_count": null,
   "id": "907c24fb",
   "metadata": {},
   "outputs": [],
   "source": []
  }
 ],
 "metadata": {
  "jupytext": {
   "cell_metadata_filter": "-all",
   "formats": "auto:light,ipynb",
   "main_language": "python",
   "notebook_metadata_filter": "-all"
  },
  "kernelspec": {
   "display_name": "Python 3 (ipykernel)",
   "language": "python",
   "name": "python3"
  },
  "language_info": {
   "codemirror_mode": {
    "name": "ipython",
    "version": 3
   },
   "file_extension": ".py",
   "mimetype": "text/x-python",
   "name": "python",
   "nbconvert_exporter": "python",
   "pygments_lexer": "ipython3",
   "version": "3.10.13"
  }
 },
 "nbformat": 4,
 "nbformat_minor": 5
}
